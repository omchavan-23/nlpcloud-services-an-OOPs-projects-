{
  "nbformat": 4,
  "nbformat_minor": 0,
  "metadata": {
    "colab": {
      "provenance": []
    },
    "kernelspec": {
      "name": "python3",
      "display_name": "Python 3"
    },
    "language_info": {
      "name": "python"
    }
  },
  "cells": [
    {
      "cell_type": "code",
      "source": [
        "!pip install nlpcloud"
      ],
      "metadata": {
        "colab": {
          "base_uri": "https://localhost:8080/"
        },
        "id": "Up__bCEYPLAm",
        "outputId": "47a24169-7874-4d70-cc39-a65d085d0b1c"
      },
      "execution_count": 2,
      "outputs": [
        {
          "output_type": "stream",
          "name": "stdout",
          "text": [
            "Collecting nlpcloud\n",
            "  Downloading nlpcloud-1.1.46-py3-none-any.whl (3.9 kB)\n",
            "Requirement already satisfied: requests in /usr/local/lib/python3.10/dist-packages (from nlpcloud) (2.31.0)\n",
            "Requirement already satisfied: charset-normalizer<4,>=2 in /usr/local/lib/python3.10/dist-packages (from requests->nlpcloud) (3.3.2)\n",
            "Requirement already satisfied: idna<4,>=2.5 in /usr/local/lib/python3.10/dist-packages (from requests->nlpcloud) (3.7)\n",
            "Requirement already satisfied: urllib3<3,>=1.21.1 in /usr/local/lib/python3.10/dist-packages (from requests->nlpcloud) (2.0.7)\n",
            "Requirement already satisfied: certifi>=2017.4.17 in /usr/local/lib/python3.10/dist-packages (from requests->nlpcloud) (2024.2.2)\n",
            "Installing collected packages: nlpcloud\n",
            "Successfully installed nlpcloud-1.1.46\n"
          ]
        }
      ]
    },
    {
      "cell_type": "code",
      "execution_count": 3,
      "metadata": {
        "id": "HLe8SNK1GDzp"
      },
      "outputs": [],
      "source": [
        "import nlpcloud"
      ]
    },
    {
      "cell_type": "code",
      "source": [
        "class nlpcloud:\n",
        "\n",
        "  def __init__(self):\n",
        "\n",
        "    self.__database={}    # creating a database\n",
        "    self.__first_menu()   # for login purpose\n",
        "\n",
        "  def __first_menu(self):\n",
        "    first_input=int(input(\"\"\"hi there, how would you like to proceed?\n",
        "    1.Not a member? Register\n",
        "    2.Already a member? Login\n",
        "    3.Want to Exit !!\"\"\"))\n",
        "\n",
        "    if first_input==1:\n",
        "      self.__Register()\n",
        "    elif first_input==2:\n",
        "      self.__login()\n",
        "    else:\n",
        "      exit()\n",
        "\n",
        "  def __Register(self):\n",
        "\n",
        "    name=input(\"Enter Name:\")\n",
        "    email=input(\"Enter email:\")\n",
        "    password=input(\"Enter password:\")\n",
        "\n",
        "    if email in self.__database:\n",
        "      print(\"Email already exists\")\n",
        "      self.__first_menu()\n",
        "    else:\n",
        "      self.__database[email]=[name,password]\n",
        "      print('registration successful.Now login')\n",
        "      print(self.__database)\n",
        "      self.__first_menu()\n",
        "\n",
        "  def __login(self):\n",
        "    email=input(\"Enter email:\")\n",
        "    password=input(\"Enter password:\")\n",
        "\n",
        "    if email in self.__database:\n",
        "      if self.__database[email][1]== password:\n",
        "        print(\"Login Successful\")\n",
        "        self.__second_menu()\n",
        "      else:\n",
        "        print('Wrong password.Try again')\n",
        "        self.__login()\n",
        "    else:\n",
        "      print('This email is not registered')\n",
        "      self.__first_menu()\n",
        "\n",
        "\n",
        "  def __second_menu(self):\n",
        "    second_input = input(\"\"\"\n",
        "    Hi! how would you like to proceed?\n",
        "    1. NER\n",
        "    2. Language Detection\n",
        "    3. Sentiment Analysis\n",
        "    4. Text summarization\n",
        "    5.Logout\n",
        "    \"\"\")\n",
        "\n",
        "    if second_input == '1':\n",
        "      self.__ner()\n",
        "    elif second_input == '2':\n",
        "      self.__language_detection()\n",
        "    elif second_input == '3':\n",
        "      self.__sentiment_analysis()\n",
        "    elif fourth_input=='4':\n",
        "      self.__summarization()\n",
        "    else:\n",
        "      exit()\n",
        "\n",
        "    def __ner(self):\n",
        "      text = input('Enter the text: ')\n",
        "\n",
        "      client = nlpcloud.Client(\"en_core_web_sm\", \"2b58d7fb9af09e617ee525e78c7766b6d8c5bb61\", gpu=False, lang=\"en\")\n",
        "      response = client.ner(text)\n",
        "\n",
        "      print(\"Named Entities:\")\n",
        "      for entity in response['entities']:\n",
        "        print(f\"Text: {entity['text']}, Type: {entity['type']}\")\n",
        "      self.__second_menu()\n",
        "\n",
        "    def __language_detection(self):\n",
        "      text = input('Enter the text: ')\n",
        "\n",
        "      client = nlpcloud.Client(\"python-langid\", \"2b58d7fb9af09e617ee525e78c7766b6d8c5bb61\", gpu=False)\n",
        "      response = client.langdetection(text)\n",
        "\n",
        "      print(f\"Detected Language: {response['languages'][0]['name']}\")\n",
        "      self.__second_menu()\n",
        "\n",
        "    def __sentiment_analysis(self):\n",
        "      para = input('Enter the paragraph')\n",
        "\n",
        "      client = nlpcloud.Client(\"distilbert-base-uncased-emotion\", \"2b58d7fb9af09e617ee525e78c7766b6d8c5bb61\", gpu=False, lang=\"en\")\n",
        "      response = client.sentiment(para)\n",
        "\n",
        "      L = []\n",
        "      for i in response['scored_labels']:\n",
        "        L.append(i['score'])\n",
        "\n",
        "      index = sorted(list(enumerate(L)),key=lambda x:x[1],reverse=True)[0][0]\n",
        "\n",
        "      print(response['scored_labels'][index]['label'])\n",
        "      self.__second_menu()\n",
        "\n",
        "    def __summarization(self):\n",
        "      para = input('Enter the paragraph')\n",
        "\n",
        "      client = nlpcloud.Client(\"bart-large-cnn\", \"2b58d7fb9af09e617ee525e78c7766b6d8c5bb61\", gpu=False)\n",
        "      response=client.summarization(str.para,size=\"small\")\n",
        "\n",
        "      print(f\"summarization of your code is: {response['summary_text']}\")\n",
        "      self.__second_menu()\n",
        "\n",
        "\n",
        "obj = nlpcloud()"
      ],
      "metadata": {
        "colab": {
          "base_uri": "https://localhost:8080/"
        },
        "id": "J5QaanJyGLrI",
        "outputId": "9a8bb933-56ad-4d02-dd00-24dd056cd4a0"
      },
      "execution_count": 4,
      "outputs": [
        {
          "name": "stdout",
          "output_type": "stream",
          "text": [
            "hi there, how would you like to proceed? \n",
            "    1.Not a member? Register\n",
            "    2.Already a member? Login\n",
            "    3.Want to Exit !!3\n"
          ]
        }
      ]
    }
  ]
}